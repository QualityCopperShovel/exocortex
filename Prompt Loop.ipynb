{
 "cells": [
  {
   "cell_type": "code",
   "execution_count": 116,
   "id": "44aa0599",
   "metadata": {},
   "outputs": [],
   "source": [
    "import csv, os, json, random, sys, textwrap, random, re\n",
    "\n",
    "import openai"
   ]
  },
  {
   "cell_type": "code",
   "execution_count": 117,
   "id": "f9295487",
   "metadata": {},
   "outputs": [],
   "source": [
    "DATA_DIR = os.path.expanduser('~/exocortex_data')\n",
    "TOPIC_COUNTS_PATH = os.path.join(DATA_DIR, 'topic_counts.csv')\n",
    "\n",
    "def init_data_dir():\n",
    "  if not os.path.exists(DATA_DIR):\n",
    "    os.makedirs(DATA_DIR)\n",
    "init_data_dir()"
   ]
  },
  {
   "cell_type": "code",
   "execution_count": 118,
   "id": "523fe74c",
   "metadata": {},
   "outputs": [
    {
     "data": {
      "text/plain": [
       "{'exocortex': 2,\n",
       " 'deep learning': 2,\n",
       " 'artificial intelligence': 1,\n",
       " 'machine learning': 1,\n",
       " 'neural networks': 1,\n",
       " 'data mining': 1,\n",
       " 'predictive modeling': 1,\n",
       " 'statistical modeling': 1,\n",
       " 'regression analysis': 1,\n",
       " 'linear regression': 1,\n",
       " 'coefficients': 1,\n",
       " 'correlation': 1,\n",
       " 'association': 1,\n",
       " 'big data': 1,\n",
       " 'predictive analytics': 1,\n",
       " 'statistical analysis': 1,\n",
       " 'time series analysis': 1,\n",
       " 'time series': 1,\n",
       " 'time series data': 1,\n",
       " 'temporal data': 1,\n",
       " 'event data': 1,\n",
       " 'streaming data': 1}"
      ]
     },
     "execution_count": 118,
     "metadata": {},
     "output_type": "execute_result"
    }
   ],
   "source": [
    "def load_topic_counts():\n",
    "  if not os.path.exists(TOPIC_COUNTS_PATH):\n",
    "    return {}\n",
    "  \n",
    "  topic_to_count = {}\n",
    "  with open(TOPIC_COUNTS_PATH) as f:\n",
    "    reader = csv.reader(f)\n",
    "    for i, row in enumerate(reader):\n",
    "      if i == 0:\n",
    "        continue\n",
    "      topic_to_count[row[0]] = int(row[1])\n",
    "  return topic_to_count\n",
    "\n",
    "load_topic_counts()"
   ]
  },
  {
   "cell_type": "code",
   "execution_count": 119,
   "id": "1b03d15c",
   "metadata": {},
   "outputs": [
    {
     "name": "stdout",
     "output_type": "stream",
     "text": [
      "a\n",
      "a\n",
      "a\n",
      "a\n",
      "a\n",
      "a\n",
      "b\n",
      "a\n",
      "a\n",
      "a\n"
     ]
    }
   ],
   "source": [
    "def weighted_choice(choices):\n",
    "  # Return weighted random selection; format: {'choice1':.7, 'choice2':.5}\n",
    "  total = sum(choices.values())\n",
    "  rand = random.uniform(0, total)\n",
    "  upto = 0\n",
    "  for choice, weight in choices.items():\n",
    "    if upto + weight > rand:\n",
    "      return choice\n",
    "    upto += weight\n",
    "\n",
    "for _ in range(10):\n",
    "  print(weighted_choice({'a': 2, 'b': 1}))"
   ]
  },
  {
   "cell_type": "code",
   "execution_count": 120,
   "id": "6e529132",
   "metadata": {},
   "outputs": [
    {
     "name": "stdout",
     "output_type": "stream",
     "text": [
      "sending...\n",
      "got response\n"
     ]
    },
    {
     "data": {
      "text/plain": [
       "'1. artificial general intelligence\\n2. artificial superintelligence\\n3. cognitive architectures\\n4. mind uploading'"
      ]
     },
     "execution_count": 120,
     "metadata": {},
     "output_type": "execute_result"
    }
   ],
   "source": [
    "def request_topic(topic):\n",
    "  prompt_str = textwrap.dedent(f\"\"\"\n",
    "  Here are some important words related to 'artificial intelligence':\n",
    "  1. machine learning\n",
    "  2. deep learning\n",
    "  3. neural networks\n",
    "  4. robotics\n",
    "  5. natural language processing\n",
    "  \n",
    "  Here are some important words related to '{topic}':\n",
    "  \"\"\")\n",
    "\n",
    "  print('sending...')\n",
    "  temperature = 0.7\n",
    "  response = openai.Completion.create(\n",
    "    model=\"text-davinci-002\",\n",
    "    prompt=prompt_str,\n",
    "    temperature=temperature,\n",
    "    max_tokens=1024,\n",
    "    top_p=1,\n",
    "    frequency_penalty=0,\n",
    "    presence_penalty=0\n",
    "  )\n",
    "  \n",
    "  response_str = response.choices[0]['text'].strip()\n",
    "  #print(f'got response:\\n{response_str}')\n",
    "  print(f'got response')\n",
    "  \n",
    "  history_path = os.path.join(DATA_DIR, 'prompt_history.csv')\n",
    "  with open(history_path, 'a') as f:\n",
    "    csv.writer(f).writerow([prompt_str, response_str, temperature])\n",
    "\n",
    "  return response_str\n",
    "    \n",
    "request_topic(topic='exocortex')"
   ]
  },
  {
   "cell_type": "code",
   "execution_count": 123,
   "id": "ace53c2a",
   "metadata": {},
   "outputs": [],
   "source": [
    "def write_topic_counts(topic_to_count):\n",
    "  if not topic_to_count or len(topic_to_count) < 2:\n",
    "    print('topic_to_count is empty, not writing')\n",
    "    return\n",
    "  with open(TOPIC_COUNTS_PATH, 'w') as f:\n",
    "    writer = csv.writer(f)\n",
    "    writer.writerow(['topic', 'count'])\n",
    "    for topic, count in sorted(topic_to_count.items(), key=lambda t: t[1], reverse=True):\n",
    "      writer.writerow([topic, count])"
   ]
  },
  {
   "cell_type": "code",
   "execution_count": 124,
   "id": "64f4ad66",
   "metadata": {},
   "outputs": [
    {
     "name": "stdout",
     "output_type": "stream",
     "text": [
      "next_topic: predictive analytics\n",
      "sending...\n",
      "got response\n",
      "next_topic: statistical learning\n",
      "sending...\n",
      "got response\n",
      "next_topic: regression\n",
      "sending...\n",
      "got response\n",
      "next_topic: pattern recognition\n",
      "sending...\n",
      "got response\n",
      "next_topic: feature extraction\n",
      "sending...\n",
      "got response\n",
      "next_topic: feature selection\n",
      "sending...\n",
      "got response\n",
      "next_topic: feature engineering\n",
      "sending...\n",
      "got response\n",
      "next_topic: data preprocessing\n",
      "sending...\n",
      "got response\n",
      "next_topic: cleaning\n",
      "sending...\n",
      "got response\n",
      "next_topic: dirt\n",
      "sending...\n",
      "got response\n"
     ]
    }
   ],
   "source": [
    "def dream():\n",
    "  with open(os.path.expanduser('~/open_ai.json')) as f:\n",
    "    openai.api_key = json.loads(f.read()).get('api_key')\n",
    "\n",
    "  topic_to_count = load_topic_counts()\n",
    "  next_topic = None\n",
    "  \n",
    "  for _ in range(10):\n",
    "    if not next_topic:\n",
    "      if not topic_to_count:\n",
    "        next_topic = 'exocortex'\n",
    "      else:\n",
    "        next_topic = weighted_choice(topic_to_count)\n",
    "\n",
    "    print(f'next_topic: {next_topic}')\n",
    "      \n",
    "    topic_to_count.setdefault(next_topic, 0)\n",
    "    topic_to_count[next_topic] += 1\n",
    "    response_str = request_topic(next_topic)\n",
    "\n",
    "    next_topic = None\n",
    "    for line in response_str.splitlines():\n",
    "      if not re.match('^[0-9]+\\. ', line):\n",
    "        print(f\"line doesn't match expected format, ignoring: {line}\")\n",
    "        continue\n",
    "      topic = line.split(' ', 1)[1]\n",
    "      if topic not in topic_to_count:\n",
    "        next_topic = topic\n",
    "        break\n",
    "        \n",
    "    write_topic_counts(topic_to_count)\n",
    "dream()"
   ]
  },
  {
   "cell_type": "code",
   "execution_count": null,
   "id": "33520569",
   "metadata": {},
   "outputs": [],
   "source": []
  },
  {
   "cell_type": "code",
   "execution_count": null,
   "id": "dc2646f8",
   "metadata": {},
   "outputs": [],
   "source": []
  }
 ],
 "metadata": {
  "kernelspec": {
   "display_name": "pyenv",
   "language": "python",
   "name": "pyenv"
  },
  "language_info": {
   "codemirror_mode": {
    "name": "ipython",
    "version": 3
   },
   "file_extension": ".py",
   "mimetype": "text/x-python",
   "name": "python",
   "nbconvert_exporter": "python",
   "pygments_lexer": "ipython3",
   "version": "3.7.13"
  }
 },
 "nbformat": 4,
 "nbformat_minor": 5
}
